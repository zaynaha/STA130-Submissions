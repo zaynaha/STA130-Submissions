{
 "cells": [
  {
   "cell_type": "markdown",
   "id": "14b74968",
   "metadata": {},
   "source": [
    "## STA130 Homework 02\n",
    "\n",
    "Please see the course [wiki-textbook](https://github.com/pointOfive/stat130chat130/wiki) for the list of topics covered in this homework assignment, and a list of topics that might appear during ChatBot conversations which are \"out of scope\" for the purposes of this homework assignment (and hence can be safely ignored if encountered)"
   ]
  },
  {
   "cell_type": "markdown",
   "id": "f014006ff8809433",
   "metadata": {},
   "source": [
    "<details class=\"details-example\"><summary style=\"color:blue\"><u>Introduction</u></summary>\n",
    "\n",
    "### Introduction\n",
    "    \n",
    "A reasonable characterization of STA130 Homework is that it simply defines a weekly reading comprehension assignment. \n",
    "Indeed, STA130 Homework essentially boils down to completing various understanding confirmation exercises oriented around coding and writing tasks.\n",
    "However, rather than reading a textbook, STA130 Homework is based on ChatBots so students can interactively follow up to clarify questions or confusion that they may still have regarding learning objective assignments.\n",
    "\n",
    "> Communication is a fundamental skill underlying statistics and data science, so STA130 Homework based on ChatBots helps practice effective two-way communication as part of a \"realistic\" dialogue activity supporting underlying conceptual understanding building. \n",
    "\n",
    "It will likely become increasingly tempting to rely on ChatBots to \"do the work for you\". But when you find yourself frustrated with a ChatBots inability to give you the results you're looking for, this is a \"hint\" that you've become overreliant on the ChatBots. Your objective should not be to have ChatBots \"do the work for you\", but to use ChatBots to help you build your understanding so you can efficiently leverage ChatBots (and other resources) to help you work more efficiently.<br><br>\n",
    "\n",
    "</details>\n",
    "\n",
    "<details class=\"details-example\"><summary style=\"color:blue\"><u>Instructions</u></summary>\n",
    "\n",
    "### Instructions\n",
    "    \n",
    "1. Code and write all your answers (for both the \"Prelecture\" and \"Postlecture\" HW) in a python notebook (in code and markdown cells) \n",
    "    \n",
    "> It is *suggested but not mandatory* that you complete the \"Prelecture\" HW prior to the Monday LEC since (a) all HW is due at the same time; but, (b) completing some of the HW early will mean better readiness for LEC and less of a \"procrastentation cruch\" towards the end of the week...\n",
    "    \n",
    "2. Paste summaries of your ChatBot sessions (including link(s) to chat log histories if you're using ChatGPT) within your notebook\n",
    "    \n",
    "> Create summaries of your ChatBot sessions by using concluding prompts such as \"Please provide a summary of our exchanges here so I can submit them as a record of our interactions as part of a homework assignment\" or, \"Please provide me with the final working verson of the code that we created together\"\n",
    "    \n",
    "3. Save your python jupyter notebook in your own account and \"repo\" on [github.com](github.com) and submit a link to that notebook though Quercus for assignment marking<br><br>\n",
    "\n",
    "</details>\n",
    "\n",
    "<details class=\"details-example\"><summary style=\"color:blue\"><u>Prompt Engineering?</u></summary>\n",
    "    \n",
    "### Prompt Engineering? \n",
    "    \n",
    "The questions (as copy-pasted prompts) are designed to initialize appropriate ChatBot conversations which can be explored in the manner of an interactive and dynamic textbook; but, it is nonetheless **strongly recommendated** that your rephrase the questions in a way that you find natural to ensure a clear understanding of the question. Given sensible prompts the represent a question well, the two primary challenges observed to arise from ChatBots are \n",
    "\n",
    "1. conversations going beyond the intended scope of the material addressed by the question; and, \n",
    "2. unrecoverable confusion as a result of sequential layers logial inquiry that cannot be resolved. \n",
    "\n",
    "In the case of the former (1), adding constraints specifying the limits of considerations of interest tends to be helpful; whereas, the latter (2) is often the result of initial prompting that leads to poor developments in navigating the material, which are likely just best resolve by a \"hard reset\" with a new initial approach to prompting.  Indeed, this is exactly the behavior [hardcoded into copilot](https://answers.microsoft.com/en-us/bing/forum/all/is-this-even-normal/0b6dcab3-7d6c-4373-8efe-d74158af3c00)...\n",
    "\n",
    "</details>"
   ]
  },
  {
   "cell_type": "markdown",
   "id": "161fd459",
   "metadata": {},
   "source": [
    "\n",
    "### Marking Rubric (which may award partial credit) \n",
    "\n",
    "- [0.1 points]: All relevant ChatBot summaries [including link(s) to chat log histories if you're using ChatGPT] are reported within the notebook\n",
    "- [0.3 points]: Assignment completion confirmed by working \"final\" code and ChatBot summaries for \"3\"\n",
    "- [0.3 points]: Written submission evaluation and enagement confirmation with ChatBot summaries for \"6\"\n",
    "- [0.3 points]: Evaluation of engagement and evaluation of written communication in \"7\"\n",
    "        "
   ]
  },
  {
   "cell_type": "markdown",
   "id": "f7ff3f55",
   "metadata": {},
   "source": [
    "### \"Pre-lecture\" HW [*completion prior to next LEC is suggested but not mandatory*]"
   ]
  },
  {
   "cell_type": "markdown",
   "id": "fda8568b",
   "metadata": {},
   "source": [
    "#### 1. Begin (or restart) part \"3(a)\" of the **TUT Demo** and interact with a ChatBot to make sure you understand how each part the Monte Hall problem code above works<br>\n",
    "\n",
    "<details class=\"details-example\"><summary style=\"color:blue\"><u>Further Guidance</u></summary>\n",
    "    \n",
    "> _ChatBots typically explain code fairly effectively, so a ChatBot will probably be very helpful if you share the full Monte Hall problem code; but, you can always introduce more specific and targetted follow-up prompts that help with focus, re-redirection, and response format regarding the ChatBot responses as needed._ \n",
    ">\n",
    "> _ChatBots won't always re-introduce and re-explain the Monte Hall problem itself, so if you need it to do so you may need to specifically request this as part of your prompt or follow up interactions._\n",
    "\n",
    "</details>\n"
   ]
  },
  {
   "cell_type": "markdown",
   "id": "b723609b",
   "metadata": {},
   "source": [
    "### Prof. Schwartz Monte Hall Simulation Code"
   ]
  },
  {
   "cell_type": "code",
   "execution_count": 29,
   "id": "daf287cd",
   "metadata": {},
   "outputs": [
    {
     "data": {
      "text/plain": [
       "0.66636"
      ]
     },
     "execution_count": 29,
     "metadata": {},
     "output_type": "execute_result"
    }
   ],
   "source": [
    "import numpy as np\n",
    "all_door_options = (1,2,3)  # tuple\n",
    "my_door_choice = 1  # 1,2,3\n",
    "i_won = 0\n",
    "reps = 100000\n",
    "for i in range(reps):\n",
    "    secret_winning_door = np.random.choice(all_door_options)\n",
    "    all_door_options_list = list(all_door_options)\n",
    "    # take the secret_winning_door, so we don't show it as a \"goat\" losing door\n",
    "    all_door_options_list.remove(secret_winning_door)\n",
    "    try:\n",
    "        # if my_door_choice was secret_winning_door then it's already removed\n",
    "        all_door_options_list.remove(my_door_choice)\n",
    "    except:\n",
    "        pass\n",
    "    # show a \"goat\" losing door and remove it\n",
    "    goat_door_reveal = np.random.choice(all_door_options_list)\n",
    "    all_door_options_list.remove(goat_door_reveal)\n",
    "\n",
    "    # put the secret_winning_door back in if it wasn't our choice\n",
    "    # we previously removed it, so it would be shown as a  \"goat\" losing door\n",
    "    if secret_winning_door != my_door_choice:\n",
    "        all_door_options_list.append(secret_winning_door)\n",
    "    # if secret_winning_door was our choice then all that's left in the list is a \"goat\" losing door\n",
    "    # if secret_winning_door wasn't our choice then it's all that will be left in the list\n",
    "\n",
    "    # swap strategy\n",
    "    my_door_choice = all_door_options_list[0]\n",
    "\n",
    "    if my_door_choice == secret_winning_door:\n",
    "        i_won += 1\n",
    "\n",
    "i_won/reps"
   ]
  },
  {
   "cell_type": "markdown",
   "id": "bc6f0f0c",
   "metadata": {},
   "source": [
    "# 1. Demo\n",
    "## 1.1 tuple(), list(), vs dict()\n",
    "### (i)tuple() (Immutable Lists)\n",
    "### A tuple is an ordered collection of elements, much like a list. Immutable: Once created, the elements of a tuple cannot be changed (no modification of its size or individual elements).\n",
    "#### **Syntax:** \n",
    "tuple() or using parentheses ()\n",
    "#### **Usage:** \n",
    "Tuples are often used when you want to ensure that a collection of items cannot be changed.\n",
    "#### **Example:**\n",
    "`my_tuple = (1, 2, 3)`\n",
    "\n",
    "### (ii)list() (Mutable Lists)\n",
    "### A list is an ordered collection of elements that is mutable. Mutable: You can change, add, or remove elements from a list after it has been created.\n",
    "#### **Syntax:**\n",
    "list() or using square brackets []\n",
    "#### **Usage:**\n",
    "Lists are used when you need a collection of items that can be modified.\n",
    "#### **Example:**\n",
    "`my_list = [1, 2, 3]\n",
    "my_list.append(4)` \n",
    "List is now [1, 2, 3, 4]\n",
    "\n",
    "### (iii) dict() (Key-Value Pairs)\n",
    "### A dictionary is an unordered collection of key-value pairs. The keys must be unique and immutable (strings, numbers, tuples). The values can be of any type and are mutable.\n",
    "#### **Syntax:** \n",
    "dict() or using curly braces {}\n",
    "#### **Usage:** \n",
    "Usage: Dictionaries are used for mappings, where you associate a unique key with a value (like a lookup table).\n",
    "#### **Example:**\n",
    "`my_dict = {\n",
    "    \"initial_choice\": 1,\n",
    "    \"secret_winning_door\": 2,\n",
    "    \"revealed_goat_door\": 3,\n",
    "    \"final_choice\": 2,\n",
    "    \"won\": True\n",
    "}`\n",
    "Updating the values\n",
    "`my_dict[\"initial_choice\"] = 2  # New initial choice\n",
    "my_dict[\"won\"] = False           # Result of the game`"
   ]
  },
  {
   "cell_type": "markdown",
   "id": "a9f3acfd",
   "metadata": {},
   "source": [
    "## 1.2 NumPy Functions\n",
    "### (A) import numpy as np:\n",
    "#### This imports the NumPy library and assigns it the alias np for convenience. NumPy is a powerful library for numerical operations in Python.\n",
    "\n",
    "### (B) np.array([1, 2, 3]):\n",
    "#### This creates a NumPy array from a Python list [1, 2, 3]. NumPy arrays are more efficient than Python lists when performing numerical computations, especially on large datasets. However, in this code, it isn't used for its advanced features, just as a demonstration of how NumPy arrays work.\n",
    "\n",
    "### (C) np.random.choice([1, 2, 3]):\n",
    "#### This function randomly selects an element from a given sequence (in this case, the tuple (1, 2, 3) representing the doors). It's used to simulate randomness in the problem, such as choosing the winning door or revealing a door with a goat behind it.\n",
    "#### **Example:**\n",
    "`choice = np.random.choice([1, 2, 3])`\n",
    "#### **Usage:** \n",
    "In the code, it's used for: Randomly selecting the secret winning door (secret_winning_door) and randomly revealing one of the remaining doors as the \"goat\" door (goat_door_reveal)."
   ]
  },
  {
   "cell_type": "markdown",
   "id": "e0b72b26",
   "metadata": {},
   "source": [
    "## 1.3 for i in range(n):, for x in a_list:, for i,x in enumerate(a_list):, and print()\n",
    "### (i) for i in range(n):\n",
    "#### This loop iterates over a sequence of numbers from 0 to n-1. The variable i will take each value in this range. range(n) generates a sequence of numbers starting from 0 and ending at n-1.\n",
    "#### **Example:**\n",
    "`for i in range(5):\n",
    "    print(i)`\n",
    "#### **Usage:** \n",
    "When you want to repeat a block of code n times or need to iterate over indices."
   ]
  },
  {
   "cell_type": "markdown",
   "id": "e0b14de2",
   "metadata": {},
   "source": [
    "### (ii) for x in a_list:\n",
    "#### This loop iterates over each element in a_list. In each iteration, x will take the value of one element from the list.\n",
    "#### **Example:**\n",
    "`a_list = [10, 20, 30]\n",
    "for x in a_list:\n",
    "    print(x)`\n",
    "#### **Usage:** \n",
    "When you want to loop through the elements of a list or any iterable without needing their index."
   ]
  },
  {
   "cell_type": "markdown",
   "id": "397ea882",
   "metadata": {},
   "source": [
    "### (iii) for i, x in enumerate(a_list):\n",
    "#### enumerate(a_list) returns both the index (i) and the element (x) of the list in each iteration. This is useful when you need both the position and the value.\n",
    "#### **Example:**\n",
    "`a_list = ['a', 'b', 'c']\n",
    "for i, x in enumerate(a_list):\n",
    "    print(f\"Index: {i}, Value: {x}\")`\n",
    "#### **Usage:** \n",
    "When you need both the index and the element in a loop."
   ]
  },
  {
   "cell_type": "markdown",
   "id": "b770d77c",
   "metadata": {},
   "source": [
    "## (iv)print() in Jupyter Notebooks\n",
    "#### (A)In a Jupyter Notebook, the last line of a code cell will automatically \"print\" its result without needing an explicit print() function. However, inside loops, you must use print() to see intermediate outputs.\n",
    "#### **Example:**"
   ]
  },
  {
   "cell_type": "code",
   "execution_count": 30,
   "id": "f3fe0f14",
   "metadata": {},
   "outputs": [
    {
     "data": {
      "text/plain": [
       "8"
      ]
     },
     "execution_count": 30,
     "metadata": {},
     "output_type": "execute_result"
    }
   ],
   "source": [
    "5 + 3  # Will display 8 automatically in the output"
   ]
  },
  {
   "cell_type": "markdown",
   "id": "c7b1cfb0",
   "metadata": {},
   "source": [
    "#### (B) but inside loop"
   ]
  },
  {
   "cell_type": "code",
   "execution_count": 31,
   "id": "f5a9bf66",
   "metadata": {},
   "outputs": [],
   "source": [
    "for i in range(3):\n",
    "    5 + 3  # Will not display anything because the result of 5 + 3 is inside a loop, so you need:"
   ]
  },
  {
   "cell_type": "markdown",
   "id": "cf743742",
   "metadata": {},
   "source": [
    "#### (B) to fix"
   ]
  },
  {
   "cell_type": "code",
   "execution_count": 32,
   "id": "91849b89",
   "metadata": {},
   "outputs": [
    {
     "name": "stdout",
     "output_type": "stream",
     "text": [
      "8\n",
      "8\n",
      "8\n"
     ]
    }
   ],
   "source": [
    "for i in range(3):\n",
    "    print(5 + 3)  # Displays 8 three times"
   ]
  },
  {
   "cell_type": "markdown",
   "id": "6598c9e0",
   "metadata": {},
   "source": [
    "## (iv) Applying print() in the Monty Hall Simulation\n",
    "#### In the Monty Hall code, if you want to print the status of each iteration (for example, to debug the secret winning door or whether you won), you must use print() inside the loop."
   ]
  },
  {
   "cell_type": "code",
   "execution_count": 33,
   "id": "9c718a13",
   "metadata": {},
   "outputs": [
    {
     "name": "stdout",
     "output_type": "stream",
     "text": [
      "Iteration 0, Winning Door: 3\n",
      "Iteration 1, Winning Door: 2\n",
      "Iteration 2, Winning Door: 3\n",
      "Iteration 3, Winning Door: 2\n",
      "Iteration 4, Winning Door: 3\n"
     ]
    }
   ],
   "source": [
    "for i in range(5):\n",
    "    secret_winning_door = np.random.choice([1, 2, 3])\n",
    "    print(f\"Iteration {i}, Winning Door: {secret_winning_door}\")"
   ]
  },
  {
   "cell_type": "markdown",
   "id": "0ab2f4dc",
   "metadata": {},
   "source": [
    "#### This allows you to track the internal state of the program during each loop iteration."
   ]
  },
  {
   "cell_type": "markdown",
   "id": "548be6c8",
   "metadata": {},
   "source": [
    "## 1.4 if/else Conditional Statements in Python\n",
    "#### if/else statements are used to execute code based on a condition. If the condition evaluates to True, the code inside the if block runs; otherwise, the code inside the else block runs (if provided).\n",
    "#### **basic structure:**\n",
    "`if condition:\n",
    "    # code to run if condition is True\n",
    "\n",
    "else:\n",
    "    # code to run if condition is False`\n",
    "    \n",
    "#### You can also have multiple conditions using elif:\n",
    "`#if condition1:\n",
    "    # code for condition1\n",
    "elif condition2:\n",
    "    # code for condition2\n",
    "#else:\n",
    "    # code if none of the conditions are True`"
   ]
  },
  {
   "cell_type": "code",
   "execution_count": 36,
   "id": "866c584e",
   "metadata": {},
   "outputs": [
    {
     "name": "stdout",
     "output_type": "stream",
     "text": [
      "3 is in the list\n"
     ]
    }
   ],
   "source": [
    "####**Example 1:**: if/else with a List (x in b_list)\n",
    "####Let's say we have a list b_list, and we want to check if a value x is in that list.\n",
    "b_list = [1, 2, 3, 4, 5]\n",
    "x = 3\n",
    "\n",
    "if x in b_list:\n",
    "    print(f\"{x} is in the list\")\n",
    "else:\n",
    "    print(f\"{x} is not in the list\")\n",
    "\n",
    "####In this case, the condition x in b_list checks whether the value of x is in b_list. If it is, the code prints a message saying that x is in the list, and if not, the else block runs."
   ]
  },
  {
   "cell_type": "code",
   "execution_count": 37,
   "id": "9255ea97",
   "metadata": {},
   "outputs": [
    {
     "name": "stdout",
     "output_type": "stream",
     "text": [
      "0 is even\n",
      "1 is odd\n",
      "2 is even\n",
      "3 is odd\n",
      "4 is even\n",
      "5 is odd\n",
      "6 is even\n",
      "7 is odd\n",
      "8 is even\n",
      "9 is odd\n"
     ]
    }
   ],
   "source": [
    "####**Example 2:**: if/else with i % 2 == 0 to Treat Evens and Odds Differently\n",
    "####Using the modulus operator (%), we can check whether a number is even or odd. If i % 2 == 0, the number is even; otherwise, it's odd.\n",
    "for i in range(10):\n",
    "    if i % 2 == 0:\n",
    "        print(f\"{i} is even\")\n",
    "    else:\n",
    "        print(f\"{i} is odd\")\n",
    "####Here, the if condition checks if i is divisible by 2 (i.e., an even number). If true, it prints that i is even; otherwise, it prints that i is odd."
   ]
  },
  {
   "cell_type": "code",
   "execution_count": 38,
   "id": "7990c084",
   "metadata": {},
   "outputs": [
    {
     "name": "stdout",
     "output_type": "stream",
     "text": [
      "1\n",
      "2\n",
      "Fizz\n",
      "4\n",
      "Buzz\n",
      "Fizz\n",
      "7\n",
      "8\n",
      "Fizz\n",
      "Buzz\n",
      "11\n",
      "Fizz\n",
      "13\n",
      "14\n",
      "FizzBuzz\n",
      "16\n",
      "17\n",
      "Fizz\n",
      "19\n",
      "Buzz\n",
      "Fizz\n",
      "22\n",
      "23\n",
      "Fizz\n",
      "Buzz\n",
      "26\n",
      "Fizz\n",
      "28\n",
      "29\n",
      "FizzBuzz\n",
      "31\n",
      "32\n",
      "Fizz\n",
      "34\n",
      "Buzz\n",
      "Fizz\n",
      "37\n",
      "38\n",
      "Fizz\n",
      "Buzz\n",
      "41\n",
      "Fizz\n",
      "43\n",
      "44\n",
      "FizzBuzz\n",
      "46\n",
      "47\n",
      "Fizz\n",
      "49\n",
      "Buzz\n",
      "Fizz\n",
      "52\n",
      "53\n",
      "Fizz\n",
      "Buzz\n",
      "56\n",
      "Fizz\n",
      "58\n",
      "59\n",
      "FizzBuzz\n",
      "61\n",
      "62\n",
      "Fizz\n",
      "64\n",
      "Buzz\n",
      "Fizz\n",
      "67\n",
      "68\n",
      "Fizz\n",
      "Buzz\n",
      "71\n",
      "Fizz\n",
      "73\n",
      "74\n",
      "FizzBuzz\n",
      "76\n",
      "77\n",
      "Fizz\n",
      "79\n",
      "Buzz\n",
      "Fizz\n",
      "82\n",
      "83\n",
      "Fizz\n",
      "Buzz\n",
      "86\n",
      "Fizz\n",
      "88\n",
      "89\n",
      "FizzBuzz\n",
      "91\n",
      "92\n",
      "Fizz\n",
      "94\n",
      "Buzz\n",
      "Fizz\n",
      "97\n",
      "98\n",
      "Fizz\n",
      "Buzz\n"
     ]
    }
   ],
   "source": [
    "####**Example 3:**: The \"FizzBuzz\" Problem\n",
    "####The FizzBuzz problem is a common interview question. You print numbers from 1 to 100, but: For multiples of 3, print \"Fizz\". For multiples of 5, print \"Buzz\". For multiples of both 3 and 5, print \"FizzBuzz\".\n",
    "for i in range(1, 101):\n",
    "    if i % 3 == 0 and i % 5 == 0:\n",
    "        print(\"FizzBuzz\")\n",
    "    elif i % 3 == 0:\n",
    "        print(\"Fizz\")\n",
    "    elif i % 5 == 0:\n",
    "        print(\"Buzz\")\n",
    "    else:\n",
    "        print(i)\n",
    "####In this case: The first if checks if i is divisible by both 3 and 5. The elif conditions handle divisibility by 3 or 5. The else block prints the number when it's neither divisible by 3 nor 5."
   ]
  },
  {
   "cell_type": "markdown",
   "id": "07859a39",
   "metadata": {},
   "source": [
    "#### (B) Similarity Between if/else and try/except\n",
    "A try/except block is used to handle exceptions (errors) that may arise in a code block, similar to how if/else handles different conditions. The idea is that if the code in the try block runs into an error, the program will catch the error and handle it in the except block.\n",
    "#### **Try/Except Structure:**\n",
    "`try:\n",
    "    # code that might raise an exception\n",
    " except SomeException:\n",
    "    # code to handle the exception`\n",
    "\n",
    "#### **Example with try/except (Used in Monty Hall):** \n",
    "In the Monty Hall code you shared earlier, there's a try/except block to handle a situation where the contestant's door choice is already the winning door. If the door is already removed, it raises an error when trying to remove it again, which is caught and ignored in the except block:\n",
    "`try:\n",
    "    all_door_options_list.remove(my_door_choice) # attempt to remove my_door_choice from the list\n",
    "except:\n",
    "    pass # pass means do nothing (if my_door_choice was already removed)`\n",
    "\n",
    "In this case: Try: Python tries to remove my_door_choice from all_door_options_list. Except: If removing it raises an error (like ValueError because the door was already removed), it simply \"passes\" (does nothing) instead of crashing. This is similar to an if/else in the sense that it checks a situation and decides what to do based on the outcome, except here it’s based on whether an error occurs instead of a logical condition."
   ]
  },
  {
   "cell_type": "markdown",
   "id": "11581881",
   "metadata": {},
   "source": [
    "#### 2. Extend your ChatBot sessions to now address part \"3(b)\" of the **TUT Demo** and interact with your ChatBot to see if it can suggest a simpler, more streamlined way to code up this *for* loop simulation so the process is more clear and easier to understand; then, describe any preferences you have in terms of readibility or explainability  between the original code and the code improvements suggested by the ChatBot<br>\n",
    "\n",
    "<details class=\"details-example\"><summary style=\"color:blue\"><u>Further Guidance</u></summary>\n",
    "    \n",
    "> _The links in the TUT Demo show that there can be variation in the quality of the code improvements suggested by ChatBots; however, it's most likely that a ChatBot is going to be able to greatly reduce the number of steps/lines of code and hence complexity of understanding the problem. ChatBots can provide a good amount of explanation and inline clarifying code comments and provide more simpler more intuitive code that can transform something that looks a bit scary at first to something that's easy to follow and make sense of. Of course, in doing so, a ChatBot may introduce functions that you've technically not learned or seen before; but, the amount of simplification and clarifying comments is probably going to more than compensate for this; and, you'll have seen a learned a little bit more about what's possible through this process, which is the ideal experience we're hoping you'll see here._ \n",
    "    \n",
    "</details>\n",
    "       "
   ]
  },
  {
   "cell_type": "markdown",
   "id": "4a4437c4",
   "metadata": {},
   "source": [
    "This is more readable as simplied logic is used. Instead of using try/except to remove doors and catch errors, chat used list comprehensions to filter out the doors) This is easier to to follow for me. ChatGPT list comprehensions help in creating the remaining_doors list, which kept the code clean and efficient. A redundent step was removed - Duplicate Door Removal. The door was removed once per step. In terms of readability and explainability, I prefer the streamlined version as it uses clear list operations that make the process more intuitive, reducing room for error or confusion."
   ]
  },
  {
   "cell_type": "markdown",
   "id": "f3fdebd8",
   "metadata": {},
   "source": [
    "#### 3. Submit your preferred version of the Monty Hall problem that is verified to be running and working with a final printed output of the code; then, add code comments explaining the purpose of each line of the code<br>\n",
    "\n",
    "<details class=\"details-example\"><summary style=\"color:blue\"><u>Further Guidance</u></summary>\n",
    "    \n",
    "> _Your ChatBot will likely do much of this for you, but verify for yourself that you understand each comment and reword comments wherever you think it would be better to explain it differently._\n",
    ">\n",
    "> _Remember to ask for summaries of your current session and paste these into your homework notebook  (including link(s) to chat log histories if you're using ChatGPT)_\n",
    "\n",
    "</details>\n",
    " "
   ]
  },
  {
   "cell_type": "code",
   "execution_count": 24,
   "id": "c614707e",
   "metadata": {},
   "outputs": [
    {
     "data": {
      "text/plain": [
       "0.6674"
      ]
     },
     "execution_count": 24,
     "metadata": {},
     "output_type": "execute_result"
    }
   ],
   "source": [
    "import numpy as np  # Importing the NumPy library for numerical operations\n",
    "\n",
    "# Streamlined Monty Hall Simulation\n",
    "all_door_options = (1, 2, 3)  # Define the three doors available in the game\n",
    "my_door_choice = 1  # The initial choice of door by the player\n",
    "i_won = 0  # Initialize a counter for wins\n",
    "reps = 100000  # Number of simulations to run\n",
    "\n",
    "for _ in range(reps):  # Loop over the number of simulations\n",
    "    secret_winning_door = np.random.choice(all_door_options)  # Randomly select the winning door\n",
    "\n",
    "    # Reveal a goat door (one of the losing doors)\n",
    "    remaining_doors = [door for door in all_door_options if door != secret_winning_door and door != my_door_choice]\n",
    "    goat_door_reveal = np.random.choice(remaining_doors)  # Randomly select one of the remaining doors to reveal\n",
    "\n",
    "    # Switch to the remaining door (not the goat or original choice)\n",
    "    remaining_doors = [door for door in all_door_options if door != goat_door_reveal]  # Update remaining doors\n",
    "    my_door_choice = [door for door in remaining_doors if door != my_door_choice][0]  # Switch choice to the other door\n",
    "\n",
    "    # Check if the new choice is the winning door\n",
    "    if my_door_choice == secret_winning_door:\n",
    "        i_won += 1  # Increment the win counter if the choice is correct\n",
    "\n",
    "# Calculate the proportion of wins by dividing total wins by the number of simulations\n",
    "i_won/reps  # This gives the probability of winning when switching doors"
   ]
  },
  {
   "cell_type": "markdown",
   "id": "6d83e6fd",
   "metadata": {},
   "source": [
    "# Summary of Chat Session:\n",
    "## For Loops:\n",
    "#### for i in range(n): Iterates over a sequence of numbers, commonly used when you know the number of iterations in advance.\n",
    "#### for x in a list: Iterates over each element in a list, allowing direct access to its values.\n",
    "#### for i, x in enumerate(a list): Iterates over both the index and the value of the list, useful when you need both the position and the element.\n",
    "\n",
    "## Conditional Statements:\n",
    "#### if/else: Executes specific blocks of code based on conditions. If the condition is true, the first block runs; otherwise, the alternate block runs.\n",
    "#### Even/Odd Number Check: The modulus operator (%) is used to determine if a number is even or odd. If a number divided by 2 leaves no remainder, it is even; otherwise, it is odd.\n",
    "#### FizzBuzz Problem: A coding challenge where you print numbers from 1 to 100, but replace multiples of 3 with \"Fizz\", multiples of 5 with \"Buzz\", and multiples of both 3 and 5 with \"FizzBuzz\".\n",
    "\n",
    "## Try/Except vs If/Else:\n",
    "### Both structures control the flow of a program. if/else checks logical conditions to decide what to execute, while try/except handles potential errors in the code, allowing it to continue running if an exception occurs.\n",
    "    \n",
    "## Markdown in Jupyter:\n",
    "### We reviewed how to write Markdown in Jupyter notebooks, covering headings, text formatting, lists, links, code blocks, blockquotes, images, and horizontal lines for better documentation in code cells.\n",
    "\n",
    "https://chatgpt.com/share/66ecb29e-5dd0-8008-8851-08c113d5c971"
   ]
  },
  {
   "cell_type": "markdown",
   "id": "8ba3ff01",
   "metadata": {},
   "source": [
    "#### 4. Watch the embedded video tutorial on Markov chains in the next Jupyter cell below to understand their application and relevance for ChatBots; then, after watching the video, start a new ChatBot session by prompting that you have code that creates a \"Markovian ChatBot\"; show it the first version of the \"Markovian ChatBot code\" below; and interact with the ChatBot session to make sure you understand how the original first version of the \"Markovian ChatBot code\" works<br>\n",
    "\n",
    "<details class=\"details-example\"><summary style=\"color:blue\"><u>Further Guidance</u></summary>\n",
    "\n",
    "> _If the ChatBot prompts you as to how you will \"train\" your own \"Markovian ChatBot\" you can reply that you'll just use a series of stories with a lot of different characters_\n",
    "> \n",
    "> _Ask for summaries of this second ChatBot session and paste these into your homework notebook (including link(s) to chat log histories if you're using ChatGPT)_\n",
    "    \n",
    "</details>\n",
    "    "
   ]
  },
  {
   "cell_type": "code",
   "execution_count": 14,
   "id": "a52754504a625b36",
   "metadata": {
    "scrolled": true
   },
   "outputs": [
    {
     "data": {
      "image/jpeg": "[encoded data removed]",
      "text/html": [
       "\n",
       "        <iframe\n",
       "            width=\"550\"\n",
       "            height=\"300\"\n",
       "            src=\"https://www.youtube.com/embed/56mGTszb_iM\"\n",
       "            frameborder=\"0\"\n",
       "            allowfullscreen\n",
       "            \n",
       "        ></iframe>\n",
       "        "
      ],
      "text/plain": [
       "<IPython.lib.display.YouTubeVideo at 0x7f05ace1e050>"
      ]
     },
     "execution_count": 14,
     "metadata": {},
     "output_type": "execute_result"
    }
   ],
   "source": [
    "# Markov Chains and Text Generation\n",
    "from IPython.display import YouTubeVideo\n",
    "YouTubeVideo('56mGTszb_iM', width = 550)"
   ]
  },
  {
   "cell_type": "markdown",
   "id": "1f527151",
   "metadata": {},
   "source": [
    "### How the Markovian ChatBot Code Works:\n",
    "\n",
    "1. **Two Dictionaries**: \n",
    "   - `word_used`: Tracks how many times each word appears in the list of words.\n",
    "   - `next_word`: Tracks which words tend to follow each other and how often.\n",
    "\n",
    "2. **The Loop**: \n",
    "   - The loop goes through each word (except the last one) in the list.\n",
    "   - For each word, the code:\n",
    "     - Checks if the word has already been encountered.\n",
    "     - If it has, the code adds 1 to its count in `word_used`. \n",
    "     - If it has not, the code starts counting it from 1 and creates an empty dictionary to track what comes after that word.\n",
    "\n",
    "3. **Tracking Next Words**: \n",
    "   - The code also checks the word that comes right after the current word (called the \"next word\").\n",
    "   - If the next word has already been seen after the current word, it increases the count of how often this pairing happens.\n",
    "   - If it’s a new pairing, the code starts counting it from 1.\n"
   ]
  },
  {
   "cell_type": "markdown",
   "id": "7a17e608",
   "metadata": {},
   "source": [
    "<details class=\"details-example\"><summary style=\"color:blue\"><u>Continue now...?</u></summary>\n",
    "\n",
    "### Pre-lecture VS Post-lecture HW\n",
    "\n",
    "Feel free to work on the \"Post-lecture\" HW below if you're making good progress and want to continue: for **HW 02** continuing could be reasonable because questions \"5-7\" below directly follow up and extend \"Pre-lecture\" HW question \"4\"\n",
    "\n",
    "*The benefits of continue would are that (a) it might be fun to try to tackle the challenge of working through some problems without additional preparation or guidance; and (b) this is a very valable skill to be comfortable with; and (c) it will let you build experience interacting with ChatBots (and beginning to understand their strengths and limitations in this regard)... it's good to have sense of when using a ChatBot is the best way to figure something out, or if another approach (such as course provided resources or a plain old websearch for the right resourse) would be more effective*\n",
    "    \n",
    "</details>    "
   ]
  },
  {
   "cell_type": "markdown",
   "id": "d6ae0a64",
   "metadata": {},
   "source": [
    "### \"Post-lecture\" HW [*submission along with \"Pre-lecture\" HW is due prior to next TUT*]"
   ]
  },
  {
   "cell_type": "markdown",
   "id": "a3979c94",
   "metadata": {},
   "source": [
    "#### 5. Recreate (or resume) the previous ChatBot session from question \"4\" above, and now  prompt the ChatBot session that you have a couple extensions of the code to show it, and then show it each of the extentions of the \"Markovian ChatBot code\" below in turn\n",
    "\n",
    "\n",
    "\n",
    "1. Without just supplying your ChatBot session with the answers, see if the ChatBot can figure out what the extensions in the code do; namely, making character specific Markov chains, and using bigrams (rather than just the previous word alone) dependency... prompt your ChatBot session with some hints if it's not seeming to \"get it\"<br><br>\n",
    "    \n",
    "2. Interact with your ChatBot session to have it explain details of the code wherever you need help understanding what the code is doing and how it works<br><br>\n",
    "    \n",
    "3. Start yet another new ChatBot session and first show the ChatBot the original \"Markovian ChatBot code\" below, and then tell ChatBot that you have an extension but this time just directly provide it the more complicated final extension without ever providing the intermediate extension code to the ChatBot session and see if it's still able to understand everything extension does; namely, making character specific Markov chains, and using bigrams (rather than just the previous word alone) dependency... prompt the ChatBot with some hints if it's not seeming to understand what you're getting at...<br><br>\n",
    "    \n",
    "<details class=\"details-example\"><summary style=\"color:blue\"><u>Further Guidance</u></summary>\n",
    "\n",
    "> **ALERT: Time Warning**. Regarding the comments below (which will likely be relevant and useful for you), you might find the potential learning experience that this provides to be a quite the rabbit total rabbit hole and time sink. You might end up finding out that you spent way more time than I should on learning the code!! So be mindful of your time management as there is much to do for many classes!\n",
    ">    \n",
    "> _As you may or may not have already experienced in the previous problem, a ChatBot applied to this problem is likely to start explaining a bit more knowledge about Python than you need to know (as a student just trying to learn stats+DS); however, you'll probably feel like this \"out of scope\" context information is helpful to know (or at least be aware of) and easy to understand and learn if you use some addtional prompts to dig deeper into them. A ChatBot will be quite good at explaining and helping understand smaller chunks of code; however, if given too much information at once it can gloss over some information._\n",
    ">   \n",
    "> _That said, some topics here are potentially quite and advanced and too tricky! You might be able to ask the ChatBot to simplify its explanations and that might help a bit. But on the other hand, some topics, such as, \"how does `nested_dict = lambda: defaultdict(nested_dict)` work?\" might just simply be too advanced to really admit a simpler explanation via a ChatBot. You'll have to let these sorts of things go, if you come across explanations that just aren't improving or helping at at. In the case of `defaultdict(nested_dict)` specifically, the details here are well beyond the scope of STA130 and can be very safely ignored for now. The code will have reviewed and \"walked thorugh\" in LEC, but the perspectives espoused there will be the extent of the formal commentary and information regarding the coding topics we encounter in the Markov ChatBots code here._\n",
    ">     \n",
    "> _Unlike with the Monte Hall problem, we will not inquire with the ChatBot to see if it can suggest any streamlining, readability, or usability improvements to the alternative versions of the \"Markovian ChatBot code\" we're examining_\n",
    ">     \n",
    "> - _because doing so seems to result in the attempted creation of dubiously functional modular code with a focus on reusability (which is likely a result of ChatBot design being primarily a \"computer science\" topic), so ChatBot reponses here tend to orient around programming and system design principles (despite \"Markovian\" very much being a \"statistics\" topic)_\n",
    ">     \n",
    "> _Programming and system design principles are beyond the scope of STA130; but, they are critical for modern data science careers... if you are interested in pursuing a data science career, it is imperitive that you complete courses like CSC263, CSC373, and perhaps an additional \"systems design\" course_\n",
    "> \n",
    "> ---\n",
    "> \n",
    "> _Don't forget to ask for summaries of all your different ChatBot sessions and organize and paste these into your homework notebook (including link(s) to chat log histories if you're using ChatBot)_\n",
    "    \n",
    "</details>\n",
    "     "
   ]
  },
  {
   "cell_type": "markdown",
   "id": "d2efbcaf",
   "metadata": {},
   "source": [
    "### 5.1 & 5.2)\n",
    "These were done in ChatGPT so I found it fitting to just put the summary here:\n",
    "# Summary of the Session\n",
    "\n",
    "1. **Markovian Chatbot Code**:\n",
    "   - You shared a code snippet for a Markovian chatbot, which creates chains based on word usage and what follows each word.\n",
    "   - We discussed how the code uses `defaultdict` for counting occurrences and tracking relationships between words.\n",
    "\n",
    "2. **Understanding Key Concepts**:\n",
    "   - You asked about various programming concepts, such as `lambda`, `enumerate`, and `+=`, which I explained in simple terms.\n",
    "   - We clarified that the original code is focused on word pairs (bigrams) and not character-specific.\n",
    "\n",
    "3. **Extensions to the Code**:\n",
    "   - You presented an extension of the code that uses bigrams and counts occurrences of two-word pairs.\n",
    "   - I initially misinterpreted the goal of the code as word-specific instead of character-specific, leading to some confusion.\n",
    "\n",
    "4. **Reflection on Miscommunication**:\n",
    "   - We discussed what went wrong in my analysis, emphasizing the importance of context and clarity in understanding the code's purpose.\n",
    "\n",
    "5. **Final Clarifications**:\n",
    "   - I provided an adjusted version of the code for character-specific Markov chains to align with your intent.\n",
    "   - We concluded with insights on the adaptability of code and the importance of asking clarifying questions.\n",
    "   \n",
    "  https://chatgpt.com/share/66ecbf6c-5f1c-8008-a3b9-8de41d1702b2"
   ]
  },
  {
   "cell_type": "markdown",
   "id": "dad61b8a",
   "metadata": {},
   "source": [
    "### 5. 3\n",
    "This is another ChatGPT task so here:\n",
    "# Markovian Chatbot Code Discussion\n",
    "\n",
    "## Original Markovian Chatbot Code\n",
    "- The original code builds a Markov model to track word usage and transitions.\n",
    "- **Components**:\n",
    "  - `word_used`: Counts occurrences of each word.\n",
    "  - `next_word`: Stores counts of words that follow each word.\n",
    "- **Loop Logic**:\n",
    "  - Iterates through words, updates counts for `word_used` and `next_word`.\n",
    "\n",
    "## Suggested Improvements\n",
    "- Use `defaultdict` for simpler logic and automatic key initialization.\n",
    "\n",
    "## Markovian Chatbot Extension #2\n",
    "- **Character Processing**:\n",
    "  - Converts character names in the `avatar` dataset to uppercase and replaces spaces with dots.\n",
    "  - Uses `Counter` to count occurrences of character names.\n",
    "  \n",
    "- **Nested Dictionary Structure**:\n",
    "  - Utilizes a nested `defaultdict` to create `word_used2C` and `next_word2C`.\n",
    "\n",
    "- **Building the Model**:\n",
    "  - Loops through words to create bigram chains (two-word sequences) specific to each character.\n",
    "  - Updates counts for bigrams and their subsequent words.\n",
    "\n",
    "## Types of Chains Created\n",
    "- **Bigram Chains**:\n",
    "  - Tracks pairs of consecutive words (bigrams) for each character.\n",
    "  \n",
    "- **Next Word Prediction**:\n",
    "  - For each bigram, tracks possible next words that follow, allowing for contextual responses.\n",
    "\n",
    "## Summary\n",
    "- The chains enable dynamic character-specific interactions by leveraging the frequency and relationships between words.\n",
    "- The code allows the chatbot to generate contextually relevant responses based on character context.\n",
    "\n",
    "https://chatgpt.com/share/66ecbf64-9ecc-8008-b736-b0da111dd797"
   ]
  },
  {
   "cell_type": "markdown",
   "id": "116f0a96",
   "metadata": {},
   "source": [
    "#### 6. Report on your experience interacting with ChatBots to understand the Monte Hall problem and \"Markovian ChatBot\" code\n",
    "\n",
    "1. Discuss how quickly the ChatBot was able to be helpful for each of the above questions, and if so, how?<br><br>\n",
    "    \n",
    "2. Discuss whether or not interacting with ChatBot to try to figure things out was frustrating or unhelpful, and if so, how?<br><br>\n",
    "    \n",
    "3. Based on your experiences to date (e.g., including using ChatBots to troubleshoot coding errors in the previous homework), provide an overall assessment evaluating the usefulness of ChatBots as tools to help you understand code<br>"
   ]
  },
  {
   "cell_type": "markdown",
   "id": "6a8e38b3",
   "metadata": {},
   "source": [
    "1. **Speed and Helpfulness of the ChatBot**:  \n",
    "   The ChatBot was quick to assist with the Monty Hall problem, demonstrating a solid understanding of the concept and providing a sample to clarify the explanation. However, when it came to the Markovian chatbot code, the initial response was less effective. The ChatBot misinterpreted the task as word-specific instead of character-specific despite my prompts. It required clear guidance before it adjusted its understanding, but once that was established, it quickly grasped the character-based Markov chains and effectively broke down the code into understandable parts.\n",
    "\n",
    "2. **Frustration and Helpfulness in Interactions**:  \n",
    "   Interacting with the ChatBot was somewhat frustrating during the initial exchange about the Markovian chatbot code. Despite my clear descriptions, the ChatBot initially insisted on a misunderstanding regarding the specificity of the chains, which created a bit of confusion. However, after I clarified the details, it adapted its response and ultimately provided useful code that aligned with my requirements. Overall, while there were moments of frustration, the ChatBot eventually became helpful.\n",
    "\n",
    "3. **Overall Assessment of ChatBots for Coding Help**:  \n",
    "   My experiences with ChatBots have been largely positive. They possess a breadth of knowledge that often exceeds my own, providing valuable insights into coding errors and concepts. While some solutions might initially seem out of my scope, the ChatBot excels at explaining complex ideas in layman’s terms, making it a useful tool for understanding code better. In general, I find ChatBots to be effective assistants in my coding journey."
   ]
  },
  {
   "cell_type": "markdown",
   "id": "4642d6c2",
   "metadata": {},
   "source": [
    "#### 7. Reflect on your experience interacting with ChatBot and describe how your perception of AI-driven assistance tools in the context of learning coding, statistics, and data science has been evolving (or not) since joining the course<br><br>\n",
    "\n",
    "<details class=\"details-example\"><summary style=\"color:blue\"><u>Further Guidance</u></summary>\n",
    "    \n",
    "> _Question \"7\" and the next question \"8\" are somewhat related to the first bullet point in the suggested interactions of the \"Afterword\" to the Homework from last week... consider reviewing that if you'd like a little extra orienting around what these questions are trying to have you explore_\n",
    "   \n",
    "</details>"
   ]
  },
  {
   "cell_type": "markdown",
   "id": "e86b4fa9",
   "metadata": {},
   "source": [
    "Reflecting on my experience with AI-driven assistance tools like ChatGPT, I've noticed a significant evolution in how I perceive their capabilities, especially in learning coding, statistics, and data science. Here’s a breakdown of my thoughts regarding the questions you provided:\n",
    "\n",
    "**1. Perception of AI Capabilities**\n",
    "I see ChatGPT as a versatile tool for explaining concepts, providing examples, and helping troubleshoot coding issues. Its ability to clarify complex topics, like the \"World War II planes\" and \"Monty Hall\" problems, demonstrates its potential in making unintuitive statistical concepts more accessible.\n",
    "\n",
    "**2. Self-Assessment and Influence**\n",
    "ChatGPT tends to focus on being supportive and informative, which aligns with my own experiences. However, there are times when it offers too much information, making it challenging to extract the core message. This can lead to a mixed evaluation of its effectiveness based on my needs at the moment.\n",
    "\n",
    "**3. Explaining Statistical Paradoxes**\n",
    "The way ChatGPT introduces and explains statistical paradoxes varies in clarity. Some explanations are insightful and engaging, while others might lack depth or practical examples. This inconsistency influences my learning experience, making it crucial to ask follow-up questions to deepen my understanding.\n",
    "\n",
    "**4. Writing and Dialogue with ChatGPT**\n",
    "Framing my thoughts about why I chose this course as a dialogue with ChatGPT could be quite productive. It allows for exploration in a conversational manner, which might help clarify my goals and career aspirations. However, I also see the risk of becoming overly reliant on its responses, which could distract from my original intentions.\n",
    "\n",
    "**5. Prompting for Focused Responses**\n",
    "I’ve learned that my interactions can guide the conversation effectively. By framing my questions clearly, I can help ChatGPT stay focused on what I find most relevant, reducing the likelihood of overwhelming me with information.\n",
    "\n",
    "**6. Discussing Concerns**\n",
    "Engaging with ChatGPT about my concerns regarding course success or transitioning to university has been helpful. Its empathetic tone creates a supportive environment for discussing challenges, which can be reassuring during stressful times.\n",
    "\n",
    "**7. Useful Contexts for Feedback**\n",
    "I think ChatGPT can provide valuable feedback in various contexts—like brainstorming project ideas, discussing study strategies, or navigating career options. Its ability to simulate a supportive dialogue can enhance my reflective processes and foster deeper insights into my experiences.\n",
    "\n",
    "Overall, while there are both strengths and limitations to using AI as a learning tool, I find that with intentional prompting and reflection, it can significantly contribute to my understanding and growth in coding, statistics, and data science."
   ]
  },
  {
   "cell_type": "markdown",
   "id": "500f440e",
   "metadata": {},
   "source": [
    "#### 8. ChatBots consume text data available on the web or platforms, and thus represents a new way to \"search consensensus\" that condenses and summarizes mainstream human thought<br><br>\n",
    "\n",
    "1. Start a new ChatBot session and discuss the relevance of learning and adaptability, communication, coding, and statistics and data analysis as skills in the modern world, especially with respect to career opportunities (particularly in the context of the data science industry)<br><br>\n",
    "    \n",
    "2. See if ChatBot thinks you could be a statistician or data scientist without coding or doing data analysis, and then transition your ChatBot conversation into a career exploration discussion, using the ChatBot to identify the skills that might be the most valuable for a career that you're interested<br><br>\n",
    "    \n",
    "3. Ask for a summary of this ChatBot session and paste it into your homework notebook (including link(s) to chat log histories if you're using ChatBot)<br><br>\n",
    "    \n",
    "4. Paraphrase the assessments and conclusions of your conversation in the form of a reflection on your current thoughts regarding your potential future career(s) and how you can go about building the skills you need to pursue it<br><br>\n",
    "\n",
    "5. Give your thoughts regarding the helpfulness or limitations of your conversation with a ChatBot, and describe the next steps you would take to pursue this conversation further if you felt the information the ChatBot provides was somewhat high level and general, and perhaps lacked the depth and detailed knowledge of a dedicated subject matter expert who had really take the time to understand the ins and outs of the industry and career path in question.\n",
    "<br><br>\n",
    "\n",
    "<details class=\"details-example\"><summary style=\"color:blue\"><u>Further Guidance</u></summary>\n",
    "\n",
    "> _While question 8 is not a part of the rubric, it is nonetheless a very good exercise that will likely be valuable for you if you engage it them sincerely_\n",
    "    \n",
    "</details>\n"
   ]
  },
  {
   "cell_type": "markdown",
   "id": "d53d041f",
   "metadata": {},
   "source": [
    "# 8.1, 8.2 & 8.3\n",
    "\n",
    "## Summary of Chatbot Session\n",
    "### Key Points\n",
    "- **Strengths:**\n",
    "  - Passion for mathematics.\n",
    "  - Strong background in statistics, particularly in topics like variance, standard deviation, and linear regression.\n",
    "\n",
    "### Career Paths to Consider\n",
    "1. **Data Analyst**\n",
    "   - Skills Needed: Data visualization, basic coding (SQL, Python), statistics.\n",
    "   - Longevity: High demand across industries.\n",
    "\n",
    "2. **Statistician**\n",
    "   - Skills Needed: Advanced statistics, coding for data analysis, strong problem-solving skills.\n",
    "   - Longevity: Essential in sectors like healthcare, government, and finance.\n",
    "\n",
    "3. **Data Scientist**\n",
    "   - Skills Needed: Programming (Python, R), machine learning, data wrangling, statistical analysis.\n",
    "   - Longevity: Rapidly growing field, especially with the rise of AI.\n",
    "\n",
    "4. **Quantitative Analyst (Quant)**\n",
    "   - Skills Needed: Strong mathematical and statistical skills, programming, financial knowledge.\n",
    "   - Longevity: Important in finance and investment sectors.\n",
    "\n",
    "5. **Actuary**\n",
    "   - Skills Needed: Advanced statistics, risk assessment, financial knowledge.\n",
    "   - Longevity: High demand in insurance and finance.\n",
    "\n",
    "### Skills to Develop\n",
    "- **Coding:** Start with Python or R for data analysis.\n",
    "- **Statistics:** Consider taking advanced statistics or machine learning courses.\n",
    "- **Data Visualization:** Learn tools like Tableau or Power BI.\n",
    "- **Soft Skills:** Focus on communication and critical thinking.\n",
    "\n",
    "### Final Thoughts\n",
    "- Embrace your love for math and explore different paths.\n",
    "- Pursuing a program with great professors will help you grow and discover your interests.\n",
    "\n",
    "https://chatgpt.com/share/66ecc839-ac68-8008-b406-ea14c1810706\n",
    "    \n"
   ]
  },
  {
   "cell_type": "markdown",
   "id": "a0ec4097",
   "metadata": {},
   "source": [
    "# 8.4\n",
    "Reflecting on our conversation about potential future careers, I feel more optimistic about the paths available to me. I’ve always loved math, and excelling in statistics during high school has shown me that I have a knack for it. Considering careers like data analyst, statistician, and data scientist excites me, especially with the growing importance of AI in various fields.\n",
    "\n",
    "To build the skills I need, I’m taking CSC108, which is an intro to programming—a step in the right direction. I plan to learn coding, specifically Python or R, as they’re essential for data analysis. I also want to deepen my understanding of advanced statistics and explore data visualization tools like Tableau. While I know it’s a lot to take on, I’m motivated by the thought of studying under great professors at a top school.\n",
    "\n",
    "I realize that communication and critical thinking skills are equally important, and I’ll work on those as I go. Overall, I’m feeling hopeful about my future and ready to embrace the learning journey ahead, even if it can be overwhelming at times.\n",
    "\n"
   ]
  },
  {
   "cell_type": "markdown",
   "id": "7de175ec",
   "metadata": {},
   "source": [
    "# 8.5\n",
    "The conversation with the ChatBot was helpful in providing an overview of relevant skills and career paths. However, I noticed some limitations in depth and specificity. To pursue this conversation further, I would seek out more detailed resources, such as industry-specific literature, online courses, and networking opportunities with professionals in the field. Engaging with subject matter experts could provide deeper insights into the nuances of the data science industry and better prepare me for my future career."
   ]
  },
  {
   "cell_type": "markdown",
   "id": "b489452e",
   "metadata": {},
   "source": [
    "#### 9. Have you reviewed the course [wiki-textbook](https://github.com/pointOfive/stat130chat130/wiki) and interacted with a ChatBot (or, if that wasn't sufficient, real people in the course piazza discussion board or TA office hours) to help you understand all the material in the tutorial and lecture that you didn't quite follow when you first saw it?<br><br>\n",
    "  \n",
    "<details class=\"details-example\"><summary style=\"color:blue\"><u>Further Guidance</u></summary>\n",
    "    \n",
    "> _Just answering \"Yes\" or \"No\" or \"Somewhat\" or \"Mostly\" or whatever here is fine as this question isn't a part of the rubric; but, the midterm and final exams may ask questions that are based on the tutorial and lecture materials; and, your own skills will be limited by your familiarity with these materials (which will determine your ability to actually do actual things effectively with these skills... like the course project...)_\n",
    "    \n",
    "</details>"
   ]
  },
  {
   "cell_type": "markdown",
   "id": "7e668260",
   "metadata": {},
   "source": [
    "Yes, all the time! I'm super lost and it helps guide me. As a beginner its super helpful. I joined a RSG as well."
   ]
  },
  {
   "cell_type": "code",
   "execution_count": 39,
   "id": "16f95257fb4fda6c",
   "metadata": {},
   "outputs": [
    {
     "ename": "NameError",
     "evalue": "name 'words' is not defined",
     "output_type": "error",
     "traceback": [
      "\u001b[0;31m---------------------------------------------------------------------------\u001b[0m",
      "\u001b[0;31mNameError\u001b[0m                                 Traceback (most recent call last)",
      "Cell \u001b[0;32mIn[39], line 6\u001b[0m\n\u001b[1;32m      4\u001b[0m word_used \u001b[38;5;241m=\u001b[39m \u001b[38;5;28mdict\u001b[39m() \u001b[38;5;66;03m# defaultdict(int)\u001b[39;00m\n\u001b[1;32m      5\u001b[0m next_word \u001b[38;5;241m=\u001b[39m \u001b[38;5;28mdict\u001b[39m() \u001b[38;5;66;03m# defaultdict(lambda: defaultdict(int))\u001b[39;00m\n\u001b[0;32m----> 6\u001b[0m \u001b[38;5;28;01mfor\u001b[39;00m i,word \u001b[38;5;129;01min\u001b[39;00m \u001b[38;5;28menumerate\u001b[39m(\u001b[43mwords\u001b[49m[:\u001b[38;5;241m-\u001b[39m\u001b[38;5;241m1\u001b[39m]):\n\u001b[1;32m      8\u001b[0m     \u001b[38;5;28;01mif\u001b[39;00m word \u001b[38;5;129;01min\u001b[39;00m word_used:\n\u001b[1;32m      9\u001b[0m         word_used[word] \u001b[38;5;241m+\u001b[39m\u001b[38;5;241m=\u001b[39m \u001b[38;5;241m1\u001b[39m\n",
      "\u001b[0;31mNameError\u001b[0m: name 'words' is not defined"
     ]
    }
   ],
   "source": [
    "# Markovian Chatbot\n",
    "\n",
    "# from collections import defaultdict\n",
    "word_used = dict() # defaultdict(int)\n",
    "next_word = dict() # defaultdict(lambda: defaultdict(int))\n",
    "for i,word in enumerate(words[:-1]):\n",
    "\n",
    "    if word in word_used:\n",
    "        word_used[word] += 1\n",
    "    else:\n",
    "        word_used[word] = 1\n",
    "        next_word[word] = {}\n",
    "\n",
    "    if words[i+1] in next_word[word]:\n",
    "        next_word[word][words[i+1]] += 1\n",
    "    else:\n",
    "        next_word[word][words[i+1]] = 1"
   ]
  },
  {
   "cell_type": "code",
   "execution_count": 40,
   "id": "bd0e5d2163411e8e",
   "metadata": {},
   "outputs": [
    {
     "ename": "NameError",
     "evalue": "name 'words' is not defined",
     "output_type": "error",
     "traceback": [
      "\u001b[0;31m---------------------------------------------------------------------------\u001b[0m",
      "\u001b[0;31mNameError\u001b[0m                                 Traceback (most recent call last)",
      "Cell \u001b[0;32mIn[40], line 5\u001b[0m\n\u001b[1;32m      3\u001b[0m word_used2 \u001b[38;5;241m=\u001b[39m defaultdict(\u001b[38;5;28mint\u001b[39m)\n\u001b[1;32m      4\u001b[0m next_word2 \u001b[38;5;241m=\u001b[39m defaultdict(\u001b[38;5;28;01mlambda\u001b[39;00m: defaultdict(\u001b[38;5;28mint\u001b[39m))\n\u001b[0;32m----> 5\u001b[0m \u001b[38;5;28;01mfor\u001b[39;00m i,word \u001b[38;5;129;01min\u001b[39;00m \u001b[38;5;28menumerate\u001b[39m(\u001b[43mwords\u001b[49m[:\u001b[38;5;241m-\u001b[39m\u001b[38;5;241m2\u001b[39m]):\n\u001b[1;32m      6\u001b[0m     word_used2[word\u001b[38;5;241m+\u001b[39m\u001b[38;5;124m'\u001b[39m\u001b[38;5;124m \u001b[39m\u001b[38;5;124m'\u001b[39m\u001b[38;5;241m+\u001b[39mwords[i\u001b[38;5;241m+\u001b[39m\u001b[38;5;241m1\u001b[39m]] \u001b[38;5;241m+\u001b[39m\u001b[38;5;241m=\u001b[39m \u001b[38;5;241m1\u001b[39m\n\u001b[1;32m      7\u001b[0m     next_word2[word\u001b[38;5;241m+\u001b[39m\u001b[38;5;124m'\u001b[39m\u001b[38;5;124m \u001b[39m\u001b[38;5;124m'\u001b[39m\u001b[38;5;241m+\u001b[39mwords[i\u001b[38;5;241m+\u001b[39m\u001b[38;5;241m1\u001b[39m]][words[i\u001b[38;5;241m+\u001b[39m\u001b[38;5;241m2\u001b[39m]] \u001b[38;5;241m+\u001b[39m\u001b[38;5;241m=\u001b[39m \u001b[38;5;241m1\u001b[39m \n",
      "\u001b[0;31mNameError\u001b[0m: name 'words' is not defined"
     ]
    }
   ],
   "source": [
    "# Markovian Chatbot Extension #1\n",
    "\n",
    "word_used2 = defaultdict(int)\n",
    "next_word2 = defaultdict(lambda: defaultdict(int))\n",
    "for i,word in enumerate(words[:-2]):\n",
    "    word_used2[word+' '+words[i+1]] += 1\n",
    "    next_word2[word+' '+words[i+1]][words[i+2]] += 1 "
   ]
  },
  {
   "cell_type": "code",
   "execution_count": 41,
   "id": "33fe616edecddb60",
   "metadata": {},
   "outputs": [
    {
     "ename": "NameError",
     "evalue": "name 'avatar' is not defined",
     "output_type": "error",
     "traceback": [
      "\u001b[0;31m---------------------------------------------------------------------------\u001b[0m",
      "\u001b[0;31mNameError\u001b[0m                                 Traceback (most recent call last)",
      "Cell \u001b[0;32mIn[41], line 5\u001b[0m\n\u001b[1;32m      3\u001b[0m \u001b[38;5;28;01mfrom\u001b[39;00m \u001b[38;5;21;01mcollections\u001b[39;00m \u001b[38;5;28;01mimport\u001b[39;00m Counter, defaultdict\n\u001b[1;32m      4\u001b[0m \u001b[38;5;66;03m# `avatar` is a dataset, and `character` is one of it's columns\u001b[39;00m\n\u001b[0;32m----> 5\u001b[0m characters \u001b[38;5;241m=\u001b[39m Counter(\u001b[38;5;124m\"\u001b[39m\u001b[38;5;130;01m\\n\u001b[39;00m\u001b[38;5;124m\"\u001b[39m\u001b[38;5;241m+\u001b[39m \u001b[43mavatar\u001b[49m\u001b[38;5;241m.\u001b[39mcharacter\u001b[38;5;241m.\u001b[39mstr\u001b[38;5;241m.\u001b[39mupper()\u001b[38;5;241m.\u001b[39mstr\u001b[38;5;241m.\u001b[39mreplace(\u001b[38;5;124m'\u001b[39m\u001b[38;5;124m \u001b[39m\u001b[38;5;124m'\u001b[39m,\u001b[38;5;124m'\u001b[39m\u001b[38;5;124m.\u001b[39m\u001b[38;5;124m'\u001b[39m)\u001b[38;5;241m+\u001b[39m\u001b[38;5;124m\"\u001b[39m\u001b[38;5;124m:\u001b[39m\u001b[38;5;124m\"\u001b[39m)\n\u001b[1;32m      6\u001b[0m \u001b[38;5;66;03m# this code changes the type of the `character` column to `str`; then,\u001b[39;00m\n\u001b[1;32m      7\u001b[0m \u001b[38;5;66;03m# makes the text uppercase, and replaces spaces with '.'\u001b[39;00m\n\u001b[1;32m      9\u001b[0m nested_dict \u001b[38;5;241m=\u001b[39m \u001b[38;5;28;01mlambda\u001b[39;00m: defaultdict(nested_dict)\n",
      "\u001b[0;31mNameError\u001b[0m: name 'avatar' is not defined"
     ]
    }
   ],
   "source": [
    "# Markovian Chatbot Extension #2\n",
    "\n",
    "from collections import Counter, defaultdict\n",
    "# `avatar` is a dataset, and `character` is one of it's columns\n",
    "characters = Counter(\"\\n\"+ avatar.character.str.upper().str.replace(' ','.')+\":\")\n",
    "# this code changes the type of the `character` column to `str`; then,\n",
    "# makes the text uppercase, and replaces spaces with '.'\n",
    "\n",
    "nested_dict = lambda: defaultdict(nested_dict)\n",
    "word_used2C = nested_dict()\n",
    "next_word2C = nested_dict()\n",
    "\n",
    "for i,word in enumerate(words[:-2]):\n",
    "    if word in characters:\n",
    "        character = word\n",
    "        \n",
    "    if character not in word_used2C:\n",
    "        word_used2C[character] = dict()\n",
    "    if word+' '+words[i+1] not in word_used2C[character]:\n",
    "        word_used2C[character][word+' '+words[i+1]] = 0\n",
    "    word_used2C[character][word+' '+words[i+1]] += 1\n",
    "    \n",
    "    if character not in next_word2C:\n",
    "        next_word2C[character] = dict()\n",
    "    if word+' '+words[i+1] not in next_word2C[character]:\n",
    "        next_word2C[character][word+' '+words[i+1]] = dict()\n",
    "    if words[i+2] not in next_word2C[character][word+' '+words[i+1]]:\n",
    "        next_word2C[character][word+' '+words[i+1]][words[i+2]] = 0\n",
    "    next_word2C[character][word+' '+words[i+1]][words[i+2]] += 1"
   ]
  },
  {
   "cell_type": "markdown",
   "id": "1ebfa9b9",
   "metadata": {},
   "source": [
    "## Recommended Additional Useful Activities [Optional]\n",
    "\n",
    "The \"Ethical Profesionalism Considerations\" and \"Current Course Project Capability Level\" sections below **are not a part of the required homework assignment**; rather, they are regular weekly guides covering (a) relevant considerations regarding professional and ethical conduct, and (b) the analysis steps for the STA130 course project that are feasible at the current stage of the course <br><br>\n",
    "\n",
    "\n",
    "<details class=\"details-example\"><summary style=\"color:blue\"><u>Ethical Professionalism Considerations</u></summary>\n",
    "\n",
    "### Ethical Professionalism Considerations\n",
    "\n",
    "    \n",
    "> 1. If you've not heard of the \"reproducibility crisis\" in science, have a ChatBot explain it to you\n",
    "> 2. If you've not heard of the \"open source software\" (versus proprietary software), have a ChatBot explain it to you\n",
    "> 3. \"Reproducibility\" can also be considered at the level of a given data analysis project: can others replicate the results of code or analysis that you've done?\n",
    ">    1. Discuss with a ChatBot how jupyter notebooks and github can be used facilitate transparency and reproducibility in data analysis\n",
    "> 4. Discuss with a ChatBot what the distinction is between replicability of scientific experiments, versus the replicability of a specific data analysis project, and what your responsibility as an analyst should be with respect to both\n",
    "> 5. Do you think proprietary (non \"open source software\") software, such as Microsoft Word, Outlook, and Copilot tends to result in high quality products?  \n",
    ">     1. Do you think software product monopolies (such as the UofT dependence on Microsoft products) makes the world a better place?\n",
    "</details>    \n",
    "\n",
    "<details class=\"details-example\"><summary style=\"color:blue\"><u>Current Course Project Capability Level</u></summary>\n",
    "\n",
    "### Current Course Project Capability Level\n",
    "   \n",
    "**Remember to abide by the [data use agreement](https://static1.squarespace.com/static/60283c2e174c122f8ebe0f39/t/6239c284d610f76fed5a2e69/1647952517436/Data+Use+Agreement+for+the+Canadian+Social+Connection+Survey.pdf) at all times.**\n",
    "\n",
    "Information about the course project is available on the course github repo [here](https://github.com/pointOfive/stat130chat130/tree/main/CP), including a draft [course project specfication](https://github.com/pointOfive/stat130chat130/blob/main/CP/STA130F23_course_project_specification.ipynb) (subject to change). \n",
    "- The Week 01 HW introduced [STA130F24_CourseProject.ipynb](https://github.com/pointOfive/stat130chat130/blob/main/CP/STA130F24_CourseProject.ipynb), and the [available variables](https://drive.google.com/file/d/1ISVymGn-WR1lcRs4psIym2N3or5onNBi/view). \n",
    "- Please do not download the [data](https://drive.google.com/file/d/1mbUQlMTrNYA7Ly5eImVRBn16Ehy9Lggo/view) accessible at the bottom of the [CSCS](https://casch.org/cscs) webpage (or the course github repo) multiple times.\n",
    "\n",
    "> At this point in the course you should be able to create a `for` loop to iterate through and provide **simple summaries** of some of the interesting columns in the course project data\n",
    ">\n",
    "> 1. Create two versions of the code, one for numeric and the other for categorical data,  which provide a printout format that displays relavent summaries and the missing data counts for a given set of (either numerical or categorical) columns being examined\n",
    ">\n",
    "> 2. Combine the two separate `for` loops into a single `for` loop using an `if`/`else` **conditional logic structure** that determines the correct printout format based on the data type of the column under consideration  \n",
    ">     1. *Being able to transform existing code so it's \"resuable\" for different purposes is one version of the programming design principle of \"polymorphism\" (which means \"many forms\" or \"many uses\") [as in the first task above]*\n",
    ">     2. *A better version of the programming design principle of \"polymorphism\" is when the same code can handle different use cases [as in the second tast above]*\n",
    ">     3. *Being able run your code with different subsets of columns as interest in different variables changes is a final form of the programming design principle of \"polymorphism\" that's demonstrated through this exercise*   \n",
    "    \n",
    "</details>        "
   ]
  }
 ],
 "metadata": {
  "kernelspec": {
   "display_name": "Python 3 (ipykernel)",
   "language": "python",
   "name": "python3"
  },
  "language_info": {
   "codemirror_mode": {
    "name": "ipython",
    "version": 3
   },
   "file_extension": ".py",
   "mimetype": "text/x-python",
   "name": "python",
   "nbconvert_exporter": "python",
   "pygments_lexer": "ipython3",
   "version": "3.11.6"
  }
 },
 "nbformat": 4,
 "nbformat_minor": 5
}
